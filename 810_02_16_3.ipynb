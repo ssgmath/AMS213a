{
  "nbformat": 4,
  "nbformat_minor": 0,
  "metadata": {
    "colab": {
      "provenance": [],
      "authorship_tag": "ABX9TyPAi6r0WcLvX3J+LgQYRF1v",
      "include_colab_link": true
    },
    "kernelspec": {
      "name": "python3",
      "display_name": "Python 3"
    },
    "language_info": {
      "name": "python"
    }
  },
  "cells": [
    {
      "cell_type": "markdown",
      "metadata": {
        "id": "view-in-github",
        "colab_type": "text"
      },
      "source": [
        "<a href=\"https://colab.research.google.com/github/ssgmath/AMS213a/blob/master/810_02_16_3.ipynb\" target=\"_parent\"><img src=\"https://colab.research.google.com/assets/colab-badge.svg\" alt=\"Open In Colab\"/></a>"
      ]
    },
    {
      "cell_type": "code",
      "execution_count": null,
      "metadata": {
        "id": "84H1WV1t79y6"
      },
      "outputs": [],
      "source": [
        "SELECT user_id,\n",
        "       RANK() OVER (ORDER BY transaction_count DESC) as rank,\n",
        "       AVG(transaction_value)\n",
        "       OVER (PARTITION BY user_id ORDER BY date ROWS BETWEEN 6 PRECEDING AND CURRENT ROW) as avg_7_days\n",
        "FROM transactions\n",
        "\n"
      ]
    }
  ]
}